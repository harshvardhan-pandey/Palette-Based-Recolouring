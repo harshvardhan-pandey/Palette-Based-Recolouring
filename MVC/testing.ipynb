{
 "cells": [
  {
   "cell_type": "code",
   "execution_count": 1,
   "metadata": {},
   "outputs": [],
   "source": [
    "from projection import *\n",
    "import numpy as np"
   ]
  },
  {
   "cell_type": "code",
   "execution_count": 2,
   "metadata": {},
   "outputs": [],
   "source": [
    "points = np.array([[0, 0, 0], [0, 0, 1], [0, 1, 0], [1, 0, 0]]) \n",
    "ds = ProjectionHandler(points)"
   ]
  },
  {
   "cell_type": "code",
   "execution_count": 3,
   "metadata": {},
   "outputs": [
    {
     "name": "stdout",
     "output_type": "stream",
     "text": [
      "[[0.07728401 0.49343562 1.26067792]\n",
      " [1.59312773 1.83861349 0.94325039]\n",
      " [1.70811288 1.77663671 1.54733386]\n",
      " [0.34615501 1.30916384 1.40885012]\n",
      " [0.4009657  0.13866789 1.60938193]\n",
      " [1.10622576 1.63879419 0.91030861]\n",
      " [0.37221891 0.82096958 0.78561597]\n",
      " [1.80818054 0.37420331 0.71004517]\n",
      " [1.91216504 0.03100312 0.67967287]\n",
      " [0.13027189 0.89257763 1.70158832]]\n"
     ]
    }
   ],
   "source": [
    "query_points = 2 * np.random.rand(10, 3)\n",
    "print(query_points)"
   ]
  },
  {
   "cell_type": "code",
   "execution_count": 4,
   "metadata": {},
   "outputs": [
    {
     "name": "stdout",
     "output_type": "stream",
     "text": [
      "[[-2.49800181e-16  1.16378849e-01  8.83621151e-01]\n",
      " [ 3.77257118e-01  6.22742882e-01  4.10782513e-15]\n",
      " [ 3.63856466e-01  4.32942248e-01  2.03201286e-01]\n",
      " [ 6.66133820e-16  4.50156856e-01  5.49843144e-01]\n",
      " [ 0.00000000e+00  0.00000000e+00  1.00000000e+00]\n",
      " [ 2.21116243e-01  7.53684672e-01  2.51990853e-02]\n",
      " [ 4.59507577e-02  4.94701425e-01  4.59347818e-01]\n",
      " [ 1.00000000e+00  0.00000000e+00  0.00000000e+00]\n",
      " [ 1.00000000e+00  0.00000000e+00  0.00000000e+00]\n",
      " [ 3.60822491e-16  9.54946524e-02  9.04505348e-01]]\n"
     ]
    }
   ],
   "source": [
    "print(ds.project_points(query_points))"
   ]
  },
  {
   "cell_type": "code",
   "execution_count": 5,
   "metadata": {},
   "outputs": [
    {
     "name": "stdout",
     "output_type": "stream",
     "text": [
      "[[-0.         -0.         -1.          0.        ]\n",
      " [ 0.         -1.          0.         -0.        ]\n",
      " [-1.         -0.         -0.          0.        ]\n",
      " [ 0.57735027  0.57735027  0.57735027 -0.57735027]]\n"
     ]
    }
   ],
   "source": [
    "print(ds.hull.equations)"
   ]
  },
  {
   "cell_type": "code",
   "execution_count": 9,
   "metadata": {},
   "outputs": [
    {
     "name": "stdout",
     "output_type": "stream",
     "text": [
      "(10,)\n"
     ]
    }
   ],
   "source": [
    "points = np.random.rand(10, 3)\n",
    "ds = ProjectionHandler(points)\n",
    "print(ds.hull.vertices.shape)"
   ]
  },
  {
   "cell_type": "code",
   "execution_count": 17,
   "metadata": {},
   "outputs": [],
   "source": [
    "import time\n",
    "query_points = np.random.rand(100000, 3)"
   ]
  },
  {
   "cell_type": "code",
   "execution_count": 19,
   "metadata": {},
   "outputs": [
    {
     "name": "stdout",
     "output_type": "stream",
     "text": [
      "282.25393438339233\n"
     ]
    }
   ],
   "source": [
    "start_time = time.time()\n",
    "ds.project_points(query_points)\n",
    "end_time = time.time()\n",
    "print(end_time - start_time)"
   ]
  },
  {
   "cell_type": "code",
   "execution_count": 18,
   "metadata": {},
   "outputs": [
    {
     "name": "stdout",
     "output_type": "stream",
     "text": [
      "69.37690925598145\n"
     ]
    }
   ],
   "source": [
    "start_time = time.time()\n",
    "ds.project_points_parallel(query_points)\n",
    "end_time = time.time()\n",
    "print(end_time - start_time)"
   ]
  }
 ],
 "metadata": {
  "kernelspec": {
   "display_name": "Python 3",
   "language": "python",
   "name": "python3"
  },
  "language_info": {
   "codemirror_mode": {
    "name": "ipython",
    "version": 3
   },
   "file_extension": ".py",
   "mimetype": "text/x-python",
   "name": "python",
   "nbconvert_exporter": "python",
   "pygments_lexer": "ipython3",
   "version": "3.10.5"
  }
 },
 "nbformat": 4,
 "nbformat_minor": 2
}
