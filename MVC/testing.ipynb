{
 "cells": [
  {
   "cell_type": "code",
   "execution_count": 1,
   "metadata": {},
   "outputs": [],
   "source": [
    "from projection import *\n",
    "import numpy as np"
   ]
  },
  {
   "cell_type": "code",
   "execution_count": 2,
   "metadata": {},
   "outputs": [],
   "source": [
    "points = np.array([[0, 0, 0], [0, 0, 1], [0, 1, 0], [1, 0, 0]]) \n",
    "ds = ProjectionHandler(points)"
   ]
  },
  {
   "cell_type": "code",
   "execution_count": 8,
   "metadata": {},
   "outputs": [
    {
     "name": "stdout",
     "output_type": "stream",
     "text": [
      "[[0.40719368 1.65768002 0.38458928]\n",
      " [1.11259013 0.53678298 1.82210438]\n",
      " [0.79146181 1.17769449 1.66303241]\n",
      " [1.45055835 1.92394333 1.77033864]\n",
      " [1.98723673 0.22102294 1.63653139]\n",
      " [1.48455213 0.20603486 0.49783912]\n",
      " [0.70078186 1.65421143 0.42802096]\n",
      " [1.70771215 0.1010695  1.88097454]\n",
      " [0.27744599 0.08022653 0.85550764]\n",
      " [1.91973272 1.91913574 1.26568798]]\n"
     ]
    }
   ],
   "source": [
    "query_points = 2 * np.random.rand(10, 3)\n",
    "print(query_points)"
   ]
  },
  {
   "cell_type": "code",
   "execution_count": 9,
   "metadata": {},
   "outputs": [
    {
     "name": "stdout",
     "output_type": "stream",
     "text": [
      "[[3.38777347e-09 9.99999992e-01 3.04760869e-09]\n",
      " [1.45242889e-01 1.75405379e-09 8.54757108e-01]\n",
      " [1.16685986e-08 2.57331067e-01 7.42668921e-01]\n",
      " [6.89449650e-02 5.42329852e-01 3.88725182e-01]\n",
      " [6.75352677e-01 1.41852459e-09 3.24647321e-01]\n",
      " [9.93356350e-01 2.82642168e-09 6.64364368e-03]\n",
      " [2.32852841e-02 9.76714708e-01 5.46365273e-09]\n",
      " [4.13368845e-01 1.36704288e-09 5.86631152e-01]\n",
      " [2.06385908e-01 9.16656317e-03 7.84447529e-01]\n",
      " [5.00298494e-01 4.99701499e-01 5.21157835e-09]]\n"
     ]
    },
    {
     "name": "stderr",
     "output_type": "stream",
     "text": [
      "c:\\Python310\\lib\\site-packages\\scipy\\optimize\\_differentiable_functions.py:504: UserWarning: delta_grad == 0.0. Check if the approximated function is linear. If the function is linear better results can be obtained by defining the Hessian as zero instead of using quasi-Newton approximations.\n",
      "  self.H.update(delta_x, delta_g)\n"
     ]
    },
    {
     "name": "stdout",
     "output_type": "stream",
     "text": [
      "[[6.38849849e-05 9.99853205e-01 5.85928306e-05]\n",
      " [1.45337110e-01 1.85654095e-04 8.54394579e-01]\n",
      " [2.02441328e-05 2.57321386e-01 7.42651181e-01]\n",
      " [6.89459397e-02 5.42329282e-01 3.88724686e-01]\n",
      " [6.75351584e-01 3.17683339e-07 3.24647271e-01]\n",
      " [9.93302274e-01 1.71352479e-06 6.69431864e-03]\n",
      " [2.33444260e-02 9.76639975e-01 1.10114541e-05]\n",
      " [4.13361631e-01 1.34049633e-05 5.86612594e-01]\n",
      " [2.06380933e-01 9.17513769e-03 7.84442125e-01]\n",
      " [5.00292133e-01 4.99695150e-01 1.06639371e-05]]\n"
     ]
    }
   ],
   "source": [
    "print(ds.project_points(query_points))\n",
    "print(ds.project_points(query_points, BLOCK_LENGTH= 1))"
   ]
  },
  {
   "cell_type": "code",
   "execution_count": 4,
   "metadata": {},
   "outputs": [
    {
     "name": "stdout",
     "output_type": "stream",
     "text": [
      "[[-0.         -0.         -1.          0.        ]\n",
      " [ 0.         -1.          0.         -0.        ]\n",
      " [-1.         -0.         -0.          0.        ]\n",
      " [ 0.57735027  0.57735027  0.57735027 -0.57735027]]\n"
     ]
    }
   ],
   "source": [
    "print(ds.hull.equations)"
   ]
  }
 ],
 "metadata": {
  "kernelspec": {
   "display_name": "Python 3",
   "language": "python",
   "name": "python3"
  },
  "language_info": {
   "codemirror_mode": {
    "name": "ipython",
    "version": 3
   },
   "file_extension": ".py",
   "mimetype": "text/x-python",
   "name": "python",
   "nbconvert_exporter": "python",
   "pygments_lexer": "ipython3",
   "version": "3.10.5"
  }
 },
 "nbformat": 4,
 "nbformat_minor": 2
}
